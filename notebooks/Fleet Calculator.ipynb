{
 "cells": [
  {
   "cell_type": "markdown",
   "metadata": {},
   "source": [
    "# Argyle Insurance - Period Splicing\n",
    "\n",
    "This notebook takes data from the [Argyle Activities API](https://argyle.com/docs/api-reference/activities) and delivers a breakdown of gig driver's time and distance across the following periods, for insurance purposes:\n",
    "\n",
    "*   **P1** - Gig App is on and worker is waiting for request\n",
    "*   **P2** - worker has accepted request and is going to the pickup location\n",
    "*   **P3** - worker has picked up asset (food, human etc) and is going to the drop off location (P3 Ends when worker has dropped off the asset)\n",
    "\n",
    "## Instructions:\n",
    "\n",
    "Notebook can be customized in the next step, allowing the notebook user to limit API requests by Account ID. Once this is ready, click on the **Cell** dropdown in the toolbar above and select **Run All** to generate outputs.\n",
    "\n",
    "Outputs will consist of two tables:\n",
    "\n",
    "**Table 1** - By month-year table:\n",
    "\n",
    "*   \"Period 1 Time (next_request - dropoff)\",\n",
    "*   \"Period 2 Time (pickup - request)\",\n",
    "*   \"Period 3 Time (dropoff - pickup)\",\n",
    "*   \"Period 1 Distance (Period 1 Time * Period 3 Velocity)\",\n",
    "*   \"Period 2 Distance (Period 2 Time * Period 3 Velocity)\",\n",
    "*   \"Period 3 Distance (end_location - start_location)\",\n",
    "*   \"Period 3 Velocity (Period 3 Distance / Period 3 Time)\"\n",
    "\n",
    "\n",
    "**Table 2** - By activity table:\n",
    "\n",
    "*   \"Period 1 Time (next_request - dropoff)\",\n",
    "*   \"Period 2 Time (pickup - request)\",\n",
    "*   \"Period 3 Time (dropoff - pickup)\",\n",
    "*   \"Period 1 Distance (Period 1 Time * Period 3 Velocity)\",\n",
    "*   \"Period 2 Distance (Period 2 Time * Period 3 Velocity)\",\n",
    "*   \"Period 3 Distance (end_location - start_location)\",\n",
    "*   \"Period 3 Velocity (Period 3 Distance / Period 3 Time)\"\n",
    "\n",
    "Tables will be indexed on user-account."
   ]
  },
  {
   "cell_type": "code",
   "execution_count": 1,
   "metadata": {},
   "outputs": [],
   "source": [
    "# Plug in your Argyle credentials\n",
    "CLIENT_ID = \"YOUR_ARGYLE_CLIENT_ID\"\n",
    "CLIENT_SECRET = \"YOUR_ARGYLE_CLIENT_SECRET\"\n",
    "\n",
    "# Difference between trips can be considered as P1 Time as long as it doesn't exceed P1_MAX_TIME\n",
    "P1_MAX_TIME = 60 # minutes; 60 mins by default\n",
    "\n",
    "# Limit the list of activities received from Argyle API\n",
    "ACTIVITIES_LIMIT = 5000\n",
    "\n",
    "# Filter activities by employer(s)\n",
    "EMPLOYER_FILTER = [\"uber\", \"lyft\"]"
   ]
  },
  {
   "cell_type": "code",
   "execution_count": 2,
   "metadata": {},
   "outputs": [],
   "source": [
    "import pandas as pd\n",
    "import numpy as np\n",
    "import requests\n",
    "from datetime import datetime\n",
    "import matplotlib.pyplot as plt\n",
    "\n",
    "headers = {\n",
    "    \"Content-Type\": \"application/json\",\n",
    "}\n",
    "\n",
    "params = {\n",
    "    \"limit\": ACTIVITIES_LIMIT\n",
    "}\n",
    "\n",
    "API_PROD = \"https://api.argyle.io/v1/activities\"\n",
    "API_SANDBOX = \"https://api-sandbox.argyle.io/v1/activities\"\n",
    "\n",
    "def get_activity_data(account_id=None, use_sandbox=True):\n",
    "    activity_api_url = API_SANDBOX if use_sandbox else API_PROD\n",
    "    if account_id:\n",
    "        params['account'] = account_id\n",
    "\n",
    "    print(f'api url: {activity_api_url}')\n",
    "    print(f'params: {params}')\n",
    "\n",
    "    response = requests.get(\n",
    "        activity_api_url,\n",
    "        params=params,\n",
    "        headers=headers,\n",
    "        auth=(CLIENT_ID, CLIENT_SECRET))\n",
    "\n",
    "    return response.json()"
   ]
  },
  {
   "cell_type": "markdown",
   "metadata": {},
   "source": [
    "## Step 1 - Collecting and formatting data\n",
    "\n",
    "**To limit by Account ID:**\n",
    "\n",
    "Change the line below to:\n",
    "\n",
    "<code>json_obj = get_activity_data(account_id=\"ENTER_ACCOUNT_ID_HERE\", use_sandbox=True)</code>\n",
    "\n",
    "**To use Production API:**\n",
    "\n",
    "Change the line below to:\n",
    "\n",
    "`\n",
    "json_obj = get_activity_data(use_sandbox=False)\n",
    "`\n",
    "\n",
    "or\n",
    "\n",
    "\n",
    "`\n",
    "json_obj = get_activity_data(account_id=\"ENTER_ACCOUNT_ID_HERE\", use_sandbox=False)\n",
    "`\n",
    "to limit by Account ID."
   ]
  },
  {
   "cell_type": "code",
   "execution_count": 3,
   "metadata": {},
   "outputs": [
    {
     "name": "stdout",
     "output_type": "stream",
     "text": [
      "api url: https://api.argyle.io/v1/activities\n",
      "params: {'limit': 5000, 'account': 'ENTER_ACCOUNT_ID_HERE'}\n"
     ]
    },
    {
     "ename": "KeyError",
     "evalue": "'results'",
     "output_type": "error",
     "traceback": [
      "\u001b[0;31m---------------------------------------------------------------------------\u001b[0m",
      "\u001b[0;31mKeyError\u001b[0m                                  Traceback (most recent call last)",
      "\u001b[0;32m<ipython-input-3-79e3665d286a>\u001b[0m in \u001b[0;36m<module>\u001b[0;34m\u001b[0m\n\u001b[1;32m      1\u001b[0m \u001b[0mjson_obj\u001b[0m \u001b[0;34m=\u001b[0m \u001b[0mget_activity_data\u001b[0m\u001b[0;34m(\u001b[0m\u001b[0maccount_id\u001b[0m\u001b[0;34m=\u001b[0m\u001b[0;34m\"ENTER_ACCOUNT_ID_HERE\"\u001b[0m\u001b[0;34m,\u001b[0m \u001b[0muse_sandbox\u001b[0m\u001b[0;34m=\u001b[0m\u001b[0;32mFalse\u001b[0m\u001b[0;34m)\u001b[0m\u001b[0;34m\u001b[0m\u001b[0m\n\u001b[1;32m      2\u001b[0m \u001b[0;34m\u001b[0m\u001b[0m\n\u001b[0;32m----> 3\u001b[0;31m \u001b[0mdf\u001b[0m \u001b[0;34m=\u001b[0m \u001b[0mpd\u001b[0m\u001b[0;34m.\u001b[0m\u001b[0mjson_normalize\u001b[0m\u001b[0;34m(\u001b[0m\u001b[0mjson_obj\u001b[0m\u001b[0;34m[\u001b[0m\u001b[0;34m'results'\u001b[0m\u001b[0;34m]\u001b[0m\u001b[0;34m)\u001b[0m\u001b[0;34m\u001b[0m\u001b[0m\n\u001b[0m",
      "\u001b[0;31mKeyError\u001b[0m: 'results'"
     ]
    }
   ],
   "source": [
    "json_obj = get_activity_data(account_id=\"ENTER_ACCOUNT_ID_HERE\", use_sandbox=False)\n",
    "\n",
    "df = pd.json_normalize(json_obj['results'])"
   ]
  },
  {
   "cell_type": "markdown",
   "metadata": {},
   "source": [
    "## Step 2 - Data Transformation\n",
    "\n",
    "In this step the data will be cast to their respective types and processed to generate the data sliced by period. It will be aggregated "
   ]
  },
  {
   "cell_type": "code",
   "execution_count": null,
   "metadata": {},
   "outputs": [],
   "source": [
    "data_types = {\n",
    "    \"id\": str,\n",
    "    \"account\": str,\n",
    "    \"distance\": \"float32\",\n",
    "    \"employer\": \"category\",\n",
    "    \"type\": \"category\",\n",
    "    \"all_timestamps.dropoff_at\": \"datetime64[s]\",\n",
    "    \"all_timestamps.pickup_at\": \"datetime64[s]\",\n",
    "    \"all_timestamps.request_at\": \"datetime64[s]\"\n",
    "}\n",
    "\n",
    "df_new = df[data_types.keys()].astype(data_types, errors='ignore')\n",
    "df_new = df_new[df_new.employer.isin(EMPLOYER_FILTER)]\n",
    "\n",
    "df_new.info()"
   ]
  },
  {
   "cell_type": "code",
   "execution_count": null,
   "metadata": {},
   "outputs": [],
   "source": [
    "SECS_IN_HOUR = 3600.0\n",
    "\n",
    "df_new[\"month_year\"] = df_new[\"all_timestamps.request_at\"].dt.month.astype(int, errors='ignore').astype(str) + \"/\" + df_new[\"all_timestamps.request_at\"].dt.year.astype(int, errors='ignore').astype(str)\n",
    "\n",
    "df_new[\"p1_time\"] = df_new[\"all_timestamps.request_at\"].shift(1) - df_new[\"all_timestamps.dropoff_at\"] # next_request - drop off\n",
    "df_new[\"p1_time\"] = df_new[\"p1_time\"].dt.total_seconds() / SECS_IN_HOUR # Convert to hours\n",
    "df_new.loc[df_new[\"p1_time\"] >= P1_MAX_TIME / 60.0, \"p1_time\"] = 0  # Set P1 time to 0 if it's greater or equal than P1_MAX_TIME\n",
    "df_new.loc[df_new[\"p1_time\"] < 0, \"p1_time\"] = 0  # Set P1 time to 0 if it's negative (driver received a new request before drop off)\n",
    "\n",
    "df_new[\"p2_time\"] = df_new[\"all_timestamps.pickup_at\"] - df_new[\"all_timestamps.request_at\"]\n",
    "df_new[\"p2_time\"] = df_new[\"p2_time\"].dt.total_seconds() / SECS_IN_HOUR # Convert to hours\n",
    "\n",
    "df_new[\"p3_time\"] = df_new[\"all_timestamps.dropoff_at\"] - df_new[\"all_timestamps.pickup_at\"]\n",
    "df_new[\"p3_time\"] = df_new[\"p3_time\"].dt.total_seconds() / SECS_IN_HOUR # Convert to hours\n",
    "\n",
    "# P3 average velocity will determine P1 and P2 distances\n",
    "df_new[\"p3_dist\"] = df_new.distance\n",
    "df_new[\"p3_velocity\"] = df_new[\"p3_dist\"] / df_new[\"p3_time\"]\n",
    "\n",
    "df_new[\"p2_dist\"] = df_new[\"p2_time\"] * df_new[\"p3_velocity\"]\n",
    "df_new[\"p1_dist\"] = df_new[\"p1_time\"] * df_new[\"p3_velocity\"]\n",
    "\n",
    "df_new.head(10)"
   ]
  },
  {
   "cell_type": "markdown",
   "metadata": {},
   "source": [
    "## Step 3 - Output\n",
    "\n",
    "The following cells contain the data filtered as specified."
   ]
  },
  {
   "cell_type": "code",
   "execution_count": null,
   "metadata": {},
   "outputs": [],
   "source": [
    "# Table 1 - by month-year\n",
    "table_1 = df_new[[\"id\",\"account\",\"month_year\", \"p1_time\", \"p2_time\", \"p3_time\", \"p1_dist\", \"p2_dist\", \"p3_dist\"]].groupby([\"account\",\"month_year\"]).sum()\n",
    "table_1"
   ]
  },
  {
   "cell_type": "code",
   "execution_count": null,
   "metadata": {},
   "outputs": [],
   "source": [
    "# Table 2 - by activity\n",
    "table_2 = df_new[[\"id\",\"account\",\"type\", \"p1_time\", \"p2_time\", \"p3_time\", \"p1_dist\", \"p2_dist\", \"p3_dist\"]].groupby([\"account\",\"type\"]).sum()\n",
    "table_2.unstack(\"type\")"
   ]
  },
  {
   "cell_type": "code",
   "execution_count": null,
   "metadata": {},
   "outputs": [],
   "source": [
    "fig = plt.figure()\n",
    "periods = [\"Period 1\", \"Period 2\", \"Period 3\"]\n",
    "\n",
    "time_breakdown = df_new[[\"id\",\"account\",\"type\", \"p1_time\", \"p2_time\", \"p3_time\", \"p1_dist\", \"p2_dist\", \"p3_dist\"]].groupby([\"account\"])\n",
    "\n",
    "for idx, (account_id, group) in enumerate(time_breakdown):\n",
    "  values = group.sum()\n",
    "\n",
    "  ax1 = fig.add_axes([0,idx,1,0.8])\n",
    "  ax1.set_title(f\"Time breakdown (Account ID: {account_id})\")\n",
    "  ax1.set_ylabel(\"Time\")\n",
    "\n",
    "  times = [values.p1_time, values.p2_time, values.p3_time]\n",
    "  ax1.bar(periods, times, color=[\"#81c784\", \"#64b5f6\", \"#ffb74d\"])"
   ]
  }
 ],
 "metadata": {
  "kernelspec": {
   "display_name": "Python 3",
   "language": "python",
   "name": "python3"
  },
  "language_info": {
   "codemirror_mode": {
    "name": "ipython",
    "version": 3
   },
   "file_extension": ".py",
   "mimetype": "text/x-python",
   "name": "python",
   "nbconvert_exporter": "python",
   "pygments_lexer": "ipython3",
   "version": "3.7.0"
  }
 },
 "nbformat": 4,
 "nbformat_minor": 4
}
